{
  "nbformat": 4,
  "nbformat_minor": 0,
  "metadata": {
    "colab": {
      "provenance": []
    },
    "kernelspec": {
      "name": "python3",
      "display_name": "Python 3"
    },
    "language_info": {
      "name": "python"
    }
  },
  "cells": [
    {
      "cell_type": "markdown",
      "source": [
        "# I. Змінні та памʼять."
      ],
      "metadata": {
        "id": "p9wwt0LZzNvn"
      }
    },
    {
      "cell_type": "markdown",
      "source": [
        "1. Створити змінні, що посилаються на два цілих числа, що однакові за значенням, де значення належить проміжку від -5 до 256. Перевірте, чи будуть ці змінні рівні тільки за значенням або ж ще будуть посилатися на один і той самий обʼєкт в памʼяті? Наведіть код та дайте текстову відповідь нижче."
      ],
      "metadata": {
        "id": "HTJrrm95xSV9"
      }
    },
    {
      "cell_type": "markdown",
      "source": [
        "*# Цілі числа в діапазоні від -5 до 256 кешуються, тобто для кожного числа в цьому діапазоні створюється та повертається той самий об'єкт в пам'яті. Дві змінні, які мають однакове значення в цьому діапазоні, будуть посилатися на один і той самий об'єкт в пам'яті.*\n"
      ],
      "metadata": {
        "id": "TqGhfOu6Ykpz"
      }
    },
    {
      "cell_type": "code",
      "execution_count": null,
      "metadata": {
        "id": "TATni2vzayjG",
        "colab": {
          "base_uri": "https://localhost:8080/"
        },
        "outputId": "5ca56580-fe16-4c24-9ce5-41c7bdf72a45"
      },
      "outputs": [
        {
          "output_type": "stream",
          "name": "stdout",
          "text": [
            "Значення рівні: True\n",
            "Об'єкти однакові за посиланням: True\n"
          ]
        }
      ],
      "source": [
        "a=77\n",
        "b=77\n",
        "# Перевірка за значенням\n",
        "are_values_equal = a == b\n",
        "print(\"Значення рівні:\", are_values_equal)\n",
        "# Перевірка за посиланням\n",
        "are_objects_same = a is b\n",
        "print(\"Об'єкти однакові за посиланням:\", are_objects_same)\n"
      ]
    },
    {
      "cell_type": "markdown",
      "source": [
        "2. За допомогою якої функції можна перевірити належність змінної до вказаного типу даних (напр. чи змінна True посилається на значення булевого та цілочисленого типу)?"
      ],
      "metadata": {
        "id": "ISORzt6M3vAt"
      }
    },
    {
      "cell_type": "code",
      "source": [
        "# Змінна True\n",
        "variable = True\n",
        "# Перевірка належності до цілочисельного типу\n",
        "is_int = isinstance(variable, int)\n",
        "# Перевірка належності до булевого типу\n",
        "is_bool = isinstance(variable, bool)\n",
        "print(\"Чи змінна є цілим числом:\", is_int)\n",
        "print(\"Чи змінна є булевою:\", is_bool)"
      ],
      "metadata": {
        "id": "9vL9CFaMbfyo",
        "colab": {
          "base_uri": "https://localhost:8080/"
        },
        "outputId": "36fd749b-f92d-4b47-8b46-1ac4b66e38c6"
      },
      "execution_count": null,
      "outputs": [
        {
          "output_type": "stream",
          "name": "stdout",
          "text": [
            "Чи змінна є цілим числом: True\n",
            "Чи змінна є булевою: True\n"
          ]
        }
      ]
    },
    {
      "cell_type": "markdown",
      "source": [
        "змінна variable є булевою,  також може трактуватися як ціле число"
      ],
      "metadata": {
        "id": "gj6zREE3bAtJ"
      }
    },
    {
      "cell_type": "markdown",
      "source": [
        "# II. Цілі числа та числа з рухомою комою"
      ],
      "metadata": {
        "id": "tRxugKAxwYLw"
      }
    },
    {
      "cell_type": "markdown",
      "source": [
        "3. Створити дві змінні, що посилаються на будь-які ціле число та число з рухомою комою та продемонструвати такі арифметичні операції: додавання, віднімання, ділення, множення, ділення без залишку, ділення по модулю, приведення до ступеню. Всі результати операцій вивести на екран."
      ],
      "metadata": {
        "id": "NLHkgd5Gybc8"
      }
    },
    {
      "cell_type": "code",
      "source": [
        "integer_number = 10 #цілe число\n",
        "float_number = 3.14 #число з рухомою комою\n",
        "# Додавання\n",
        "addition_result = integer_number + float_number\n",
        "print(\"Додавання:\", addition_result)\n",
        "# Віднімання\n",
        "subtraction_result = integer_number - float_number\n",
        "print(\"Віднімання:\", subtraction_result)\n",
        "# Множення\n",
        "multiplication_result = integer_number * float_number\n",
        "print(\"Множення:\", multiplication_result)\n",
        "# Ділення\n",
        "division_result = integer_number / float_number\n",
        "print(\"Ділення:\", division_result)\n",
        "# Ділення без залишку\n",
        "floor_division_result = integer_number // float_number\n",
        "print(\"Ділення без залишку:\", floor_division_result)\n",
        "# Ділення по модулю\n",
        "modulus_result = integer_number % float_number\n",
        "print(\"Ділення по модулю:\", modulus_result)\n",
        "# Приведення до ступеню\n",
        "exponential_result = integer_number ** 2\n",
        "print(\"Приведення до ступеню:\", exponential_result)\n"
      ],
      "metadata": {
        "id": "nb8u_3pjb2cA",
        "colab": {
          "base_uri": "https://localhost:8080/"
        },
        "outputId": "0988a9f9-b44b-4674-eadb-482ce24f7f53"
      },
      "execution_count": null,
      "outputs": [
        {
          "output_type": "stream",
          "name": "stdout",
          "text": [
            "Додавання: 13.14\n",
            "Віднімання: 6.859999999999999\n",
            "Множення: 31.400000000000002\n",
            "Ділення: 3.184713375796178\n",
            "Ділення без залишку: 3.0\n",
            "Ділення по модулю: 0.5799999999999996\n",
            "Приведення до ступеню: 100\n"
          ]
        }
      ]
    },
    {
      "cell_type": "markdown",
      "source": [
        "4. Використовуючи змінні з вправи 3, продемонструйте механізм явного перетворення типів, де числа з рухомою комою перетворюються на цілі числа. Також визначте змінну, що посилається на значення булевого типу і спробуйте явно привести її до цілого числа."
      ],
      "metadata": {
        "id": "1kBClKgPzZnC"
      }
    },
    {
      "cell_type": "code",
      "source": [
        "integer_number = 10\n",
        "float_number = 3.14\n",
        "boolean_value = True\n",
        "# Явне перетворення булевого значення на ціле число\n",
        "converted_bool_to_int = int(boolean_value)\n",
        "print(\"Перетворення bool на int:\", converted_bool_to_int)\n",
        "# Явне перетворення числа з рухомою комою на ціле число\n",
        "converted_float_to_int = int(float_number)\n",
        "print(\"Перетворення float на int:\", converted_float_to_int)\n",
        "\n",
        "\n"
      ],
      "metadata": {
        "id": "TbqJbkeUcKsD",
        "colab": {
          "base_uri": "https://localhost:8080/"
        },
        "outputId": "ce5886b8-8d1a-4468-bd24-c045433eda8a"
      },
      "execution_count": null,
      "outputs": [
        {
          "output_type": "stream",
          "name": "stdout",
          "text": [
            "Перетворення bool на int: 1\n",
            "Перетворення float на int: 3\n"
          ]
        }
      ]
    },
    {
      "cell_type": "markdown",
      "source": [
        "# IІІ. Рядки (String)."
      ],
      "metadata": {
        "id": "EVJ7AflwxrZi"
      }
    },
    {
      "cell_type": "markdown",
      "source": [
        "5. Створити пустий рядок двома різними способами."
      ],
      "metadata": {
        "id": "_s5ECzz9zE61"
      }
    },
    {
      "cell_type": "code",
      "source": [
        "empty_string1 = \"\"\n",
        "empty_string2 = ''\n"
      ],
      "metadata": {
        "id": "fkZJHu9Scvc-",
        "colab": {
          "base_uri": "https://localhost:8080/"
        },
        "outputId": "e2938d40-fa7a-4578-f5d0-06923d886c79"
      },
      "execution_count": null,
      "outputs": [
        {
          "output_type": "stream",
          "name": "stdout",
          "text": [
            "\n",
            "\n"
          ]
        }
      ]
    },
    {
      "cell_type": "markdown",
      "source": [
        "6. Створити рядок з апострофом. Зробити його сирим. Вивести обидва рядка на екран."
      ],
      "metadata": {
        "id": "4Bdn9J3MzLf_"
      }
    },
    {
      "cell_type": "code",
      "source": [
        "string_with_apostrophe = 'Це рядок з апостроф\\'ом.'\n",
        "raw_string_with_apostrophe = r\"Це рядок з сірим   апостроф'ом.\"\n",
        "# Виведення рядків на екран\n",
        "print(string_with_apostrophe)\n",
        "print(raw_string_with_apostrophe)\n"
      ],
      "metadata": {
        "id": "ivji_hsmc0GH",
        "colab": {
          "base_uri": "https://localhost:8080/"
        },
        "outputId": "3bb61c22-21ce-4b3f-8461-3f439d7b497f"
      },
      "execution_count": null,
      "outputs": [
        {
          "output_type": "stream",
          "name": "stdout",
          "text": [
            "Це рядок з апостроф'ом.\n",
            "Це рядок з сірим   апостроф'ом.\n"
          ]
        }
      ]
    },
    {
      "cell_type": "markdown",
      "source": [
        "7. Створити змінну, що буде посилатися на Ваше прізвище латинкою. Створити форматований рядок, який буде мати вигляд \"My surname is ______\", де на місці нижніх підкреслень буде Ваше прізвище зі змінної."
      ],
      "metadata": {
        "id": "bg_d8wM4z8dS"
      }
    },
    {
      "cell_type": "code",
      "source": [
        "# Змінна, що посилається на прізвище\n",
        "surname = \"Sliepchenko\"\n",
        "# Форматований рядок\n",
        "formatted_string = \"My surname is {}\".format(surname)\n",
        "# Виведення рядка на екран\n",
        "print(formatted_string)\n"
      ],
      "metadata": {
        "id": "kuxFgpWndACq",
        "colab": {
          "base_uri": "https://localhost:8080/"
        },
        "outputId": "c05674aa-392d-48b1-9adb-55e0f35392b2"
      },
      "execution_count": null,
      "outputs": [
        {
          "output_type": "stream",
          "name": "stdout",
          "text": [
            "My surname is Sliepchenko\n"
          ]
        }
      ]
    },
    {
      "cell_type": "markdown",
      "source": [
        "8. Маючи рядок \"My dog is crazy.\" перетворити його на список [\"my\", \"dog\", \"is\", \"crazy\"]"
      ],
      "metadata": {
        "id": "1Nc6RqvQ0hxU"
      }
    },
    {
      "cell_type": "code",
      "source": [
        "# Початковий рядок\n",
        "original_string = \"My dog is crazy.\"\n",
        "# Розбиття рядка на слова та перетворення їх на нижній регістр\n",
        "word_list = original_string.lower().split()\n",
        "# Виведення результату\n",
        "print(word_list)\n"
      ],
      "metadata": {
        "id": "w1Ya4RqedUhw",
        "colab": {
          "base_uri": "https://localhost:8080/"
        },
        "outputId": "ecf8eefe-3ac1-4082-d9da-cdf8d05e6e8d"
      },
      "execution_count": null,
      "outputs": [
        {
          "output_type": "stream",
          "name": "stdout",
          "text": [
            "['my', 'dog', 'is', 'crazy.']\n"
          ]
        }
      ]
    },
    {
      "cell_type": "markdown",
      "source": [
        "# IV. Робота зі списками."
      ],
      "metadata": {
        "id": "GYVqN9uP1D4n"
      }
    },
    {
      "cell_type": "markdown",
      "source": [
        "9. Створити список двома різними за синтаксисом способами. За допомогою вбудованої функції обчисліть довжину одного з них."
      ],
      "metadata": {
        "id": "7-DeDunw2sO-"
      }
    },
    {
      "cell_type": "code",
      "source": [
        "# Створення списку за допомогою літералу\n",
        "list1 = [1, 2, 3, 4, 5]\n",
        "# Створення списку за допомогою вбудованої функції list()\n",
        "list2 = list(\"вікно\")\n",
        "# Обчислення довжини першого списку\n",
        "length_of_list1 = len(list1)\n",
        "# Виведення результатів\n",
        "print(\"Список 1:\", list1)\n",
        "print(\"Довжина списку 1:\", length_of_list1)\n",
        "print(\"\\nСписок 2:\", list2)\n",
        "print(\"Довжина списку 2:\", len(list2))\n"
      ],
      "metadata": {
        "id": "zxg06Uuxdyoh",
        "colab": {
          "base_uri": "https://localhost:8080/"
        },
        "outputId": "6352099b-9822-446f-89d8-503b53f2600a"
      },
      "execution_count": null,
      "outputs": [
        {
          "output_type": "stream",
          "name": "stdout",
          "text": [
            "Список 1: [1, 2, 3, 4, 5]\n",
            "Довжина списку 1: 5\n",
            "\n",
            "Список 2: ['в', 'і', 'к', 'н', 'о']\n",
            "Довжина списку 2: 5\n"
          ]
        }
      ]
    },
    {
      "cell_type": "markdown",
      "source": [
        "10. Створіть два списка та за допомогою спеціального методу додайте другий з них в якості останнього елемента першого."
      ],
      "metadata": {
        "id": "8vmGUTjL22gI"
      }
    },
    {
      "cell_type": "code",
      "source": [
        "# Створення двох списків\n",
        "list1 = [1, 2, 3, 4]\n",
        "list2 = list(\"вікно\")\n",
        "# Додавання другого списку в якості останнього елемента першого\n",
        "list1.extend([list2])\n",
        "# Виведення результату\n",
        "print(\"Змінений список 1:\", list1)\n"
      ],
      "metadata": {
        "id": "uHtjWYw7d7hm",
        "colab": {
          "base_uri": "https://localhost:8080/"
        },
        "outputId": "39467d90-0301-4b47-88db-dfbd97b318d8"
      },
      "execution_count": null,
      "outputs": [
        {
          "output_type": "stream",
          "name": "stdout",
          "text": [
            "Змінений список 1: [1, 2, 3, 4, ['в', 'і', 'к', 'н', 'о']]\n"
          ]
        }
      ]
    },
    {
      "cell_type": "markdown",
      "source": [
        "11. Створіть список, де елементами цього списку також є списки. Отримай перший елемент з останнього рядка та виведи значення на екран."
      ],
      "metadata": {
        "id": "JC3BkD-67_--"
      }
    },
    {
      "cell_type": "code",
      "source": [
        "# Створення списку, де елементами є інші списки\n",
        "nested_list = [\n",
        "    [1, 2, 3],\n",
        "    [4, 5, 6],\n",
        "    [7, 8, 9]\n",
        "]\n",
        "# Отримання останнього рядка\n",
        "last_row = nested_list[-1]\n",
        "# Отримання першого елемента з останнього рядка\n",
        "first_element_of_last_row = last_row[0]\n",
        "# Виведення результату\n",
        "print(\"Останній рядок:\", last_row)\n",
        "print(\"Перший елемент з останнього рядка:\", first_element_of_last_row)\n"
      ],
      "metadata": {
        "id": "Kz2jZHsGeLlz",
        "colab": {
          "base_uri": "https://localhost:8080/"
        },
        "outputId": "fa828c10-c9c0-4e6e-f86e-da0646c11407"
      },
      "execution_count": null,
      "outputs": [
        {
          "output_type": "stream",
          "name": "stdout",
          "text": [
            "Останній рядок: [7, 8, 9]\n",
            "Перший елемент з останнього рядка: 7\n"
          ]
        }
      ]
    },
    {
      "cell_type": "markdown",
      "source": [
        "12. Створіть список з десяти елементів різного типу. Отримайте всі елементи, окрім двох перших та двох останніх та збережіть їх в новій змінній."
      ],
      "metadata": {
        "id": "JA47PKTv8zFK"
      }
    },
    {
      "cell_type": "code",
      "source": [
        "# Створення списку з десяти елементів різного типу\n",
        "mixed_list = [1, 'вікно', 3.14, True, [5, 6], 'кіно', 7, False, (8, 9), 'доміно']\n",
        "# Отримання всіх елементів, окрім двох перших та двох останніх\n",
        "new_list = mixed_list[2:-2]\n",
        "# Виведення результату\n",
        "print(\"Початковий список:\", mixed_list)\n",
        "print(\"Новий список:\", new_list)\n"
      ],
      "metadata": {
        "id": "_rHdUR-ueP4-",
        "colab": {
          "base_uri": "https://localhost:8080/"
        },
        "outputId": "6bda1f0f-e122-49a7-e3f8-82bca4ee112c"
      },
      "execution_count": null,
      "outputs": [
        {
          "output_type": "stream",
          "name": "stdout",
          "text": [
            "Початковий список: [1, 'вікно', 3.14, True, [5, 6], 'кіно', 7, False, (8, 9), 'доміно']\n",
            "Новий список: [3.14, True, [5, 6], 'кіно', 7, False]\n"
          ]
        }
      ]
    },
    {
      "cell_type": "markdown",
      "source": [
        "# V. Робота з кортежами."
      ],
      "metadata": {
        "id": "pCjR1dJb1Qbi"
      }
    },
    {
      "cell_type": "markdown",
      "source": [
        "14. Створити кортеж з один елементом."
      ],
      "metadata": {
        "id": "fAZCxAX06R_k"
      }
    },
    {
      "cell_type": "code",
      "source": [
        "# Створення кортежу з одним елементом\n",
        "single_element_tuple = (44,)\n",
        "# Виведення результату\n",
        "print(single_element_tuple)\n"
      ],
      "metadata": {
        "id": "H7d82WkQev3e",
        "colab": {
          "base_uri": "https://localhost:8080/"
        },
        "outputId": "72271f9e-4b39-4081-d1ee-d95c10cc83ee"
      },
      "execution_count": null,
      "outputs": [
        {
          "output_type": "stream",
          "name": "stdout",
          "text": [
            "(44,)\n"
          ]
        }
      ]
    },
    {
      "cell_type": "markdown",
      "source": [
        "15. Порівняйте список та кортеж. Назвіть схожості та відмінності, випадки використання."
      ],
      "metadata": {
        "id": "8LCtYcmI6w1M"
      }
    },
    {
      "cell_type": "markdown",
      "source": [
        "Схожості:\n",
        "Обидва типи даних  дозволяють зберігати колекцію об'єктів. Обидва можна індексувати,  з ними можна працювати, використовуючи зрізи для отримання підмножини елементів.\n",
        "Відмінності :\n",
        "Елементи кортежа не можна змінювати після створення на відміну від списка. Кортежі, зазвичай, є трохи швидшими за списки. Синтаксис різний. Кортеж має менше методів.\n",
        "Використання списку:\n",
        "Коли потрібна змінювана структура даних. Коли потрібно використовувати методи для додавання, видалення або сортування елементів.Коли потрібна структура зі змінною довжиною.\n",
        "Коли дані мають бути константними та залишатися сталими під час виконання програми. Коли необхідно використовувати кортежі як ключі словників . Коли потрібно забезпечити безпеку даних, оскільки кортежі не можна змінювати.\n"
      ],
      "metadata": {
        "id": "BvuNyiq4sZs-"
      }
    },
    {
      "cell_type": "markdown",
      "source": [
        "*місце для текстової відповіді"
      ],
      "metadata": {
        "id": "fUsN1Hnue0C6"
      }
    },
    {
      "cell_type": "markdown",
      "source": [
        "16. Створіть кортеж з 11ти елементів чисел з рухомою комою та отримайте кожен парний за індексом елемент в зворотньому порядку. Наприклад, маючи (1.2, 2.3, 3.3, 4.3, 5.3, 6.3, 7.3, 8.3, 9.3, 0.3), отримати (0.3, 8.3, 6.3, 4.3, 2.3). Результат збережіть в нову змінну та виведіть на екран."
      ],
      "metadata": {
        "id": "m0xrwFijAmDD"
      }
    },
    {
      "cell_type": "code",
      "source": [
        "# Створення кортежу з 11 елементів\n",
        "my_tuple = (1.2, 2.3, 3.3, 4.3, 5.3, 6.3, 7.3, 8.3, 9.3, 0.3, 11.3)\n",
        "# Отримання парних за індексом елементів в зворотньому порядку\n",
        "result_tuple = my_tuple[::-2]\n",
        "# Виведення результату\n",
        "print(\"Початковий кортеж:\", my_tuple)\n",
        "print(\"Результат:\", result_tuple)\n"
      ],
      "metadata": {
        "id": "p-5DAH6XfAGA",
        "colab": {
          "base_uri": "https://localhost:8080/"
        },
        "outputId": "85d45527-9d54-4c89-c278-f79a760ec142"
      },
      "execution_count": null,
      "outputs": [
        {
          "output_type": "stream",
          "name": "stdout",
          "text": [
            "Початковий кортеж: (1.2, 2.3, 3.3, 4.3, 5.3, 6.3, 7.3, 8.3, 9.3, 0.3, 11.3)\n",
            "Результат: (11.3, 9.3, 7.3, 5.3, 3.3, 1.2)\n"
          ]
        }
      ]
    },
    {
      "cell_type": "markdown",
      "source": [
        "# VI. Множини (Set)."
      ],
      "metadata": {
        "id": "rW_I9dt3x6cW"
      }
    },
    {
      "cell_type": "markdown",
      "source": [
        "17. Створити множину без елементів. Після цого за допомогою методу додайте кілька різних елементів до множини. Чи множини є змінним типом даних?"
      ],
      "metadata": {
        "id": "zNjRLHLw1Bgg"
      }
    },
    {
      "cell_type": "code",
      "source": [
        "# Створення пустої множини\n",
        "my_set = set()\n",
        "# Додавання елементів до множини\n",
        "my_set.add(1)\n",
        "my_set.add('вікно')\n",
        "my_set.add(3.14)\n",
        "# Виведення результату\n",
        "print(\"Множина:\", my_set)\n"
      ],
      "metadata": {
        "id": "KOv7zc2Kfo4N",
        "colab": {
          "base_uri": "https://localhost:8080/"
        },
        "outputId": "b8735239-be84-430b-bde7-3f3becaaf95c"
      },
      "execution_count": null,
      "outputs": [
        {
          "output_type": "stream",
          "name": "stdout",
          "text": [
            "Множина: {1, 'вікно', 3.14}\n"
          ]
        }
      ]
    },
    {
      "cell_type": "markdown",
      "source": [
        "Множини в Python є змінним типом даних"
      ],
      "metadata": {
        "id": "HLJSiyyWwFkE"
      }
    },
    {
      "cell_type": "markdown",
      "source": [
        "*місце для текстової відповіді"
      ],
      "metadata": {
        "id": "vxS6dVYiftZQ"
      }
    },
    {
      "cell_type": "markdown",
      "source": [
        "18. Створити множину, маючи список my_list = [1, 1, 2, 67, 67, 8, 9]. Пояснити, чому \"зникли\" деякі елементи."
      ],
      "metadata": {
        "id": "gHpT0Zw_1HEF"
      }
    },
    {
      "cell_type": "code",
      "source": [
        "# Створення списку\n",
        "my_list = [1, 1, 2, 67, 67, 8, 9]\n",
        "# Конвертація списку в множину\n",
        "my_set = set(my_list)\n",
        "# Виведення результату\n",
        "print(\"Список:\", my_list)\n",
        "print(\"Множина:\", my_set)\n"
      ],
      "metadata": {
        "id": "qCN4uvJ_fxmu",
        "colab": {
          "base_uri": "https://localhost:8080/"
        },
        "outputId": "9bb0179e-99cf-4c1d-9431-534d53844917"
      },
      "execution_count": null,
      "outputs": [
        {
          "output_type": "stream",
          "name": "stdout",
          "text": [
            "Список: [1, 1, 2, 67, 67, 8, 9]\n",
            "Множина: {1, 2, 67, 8, 9}\n"
          ]
        }
      ]
    },
    {
      "cell_type": "markdown",
      "source": [
        "Коли  конвертується список в множину, буде збережено лише унікальні значення,"
      ],
      "metadata": {
        "id": "OGUFKiyov8a2"
      }
    },
    {
      "cell_type": "markdown",
      "source": [
        "*місце для текстової відповіді"
      ],
      "metadata": {
        "id": "tFNc1e20fyny"
      }
    },
    {
      "cell_type": "markdown",
      "source": [
        "19. Створіть дві множини. Продемонстуйте над ними операції: обʼєднання, різниці, пересічі та симетричної різниці. Використовуйте методи, що не змінюють множини, а створюють нові."
      ],
      "metadata": {
        "id": "SRMkGizS1UwY"
      }
    },
    {
      "cell_type": "code",
      "source": [
        "set1 = {1, 2, 3, 4, 5}\n",
        "set2 = {6, 7, 8, 9, 4, 2}\n",
        "# Об'єднання множин\n",
        "union_result = set1.union(set2)\n",
        "# Різниця множин (елементи, що є в set1, але не є в set2)\n",
        "difference_result = set1.difference(set2)\n",
        "# Пересічення множин (елементи, що є в обох множинах)\n",
        "intersection_result = set1.intersection(set2)\n",
        "# Симетрична різниця (елементи, що є в одній з множин, але не в обох)\n",
        "symmetric_difference_result = set1.symmetric_difference(set2)\n",
        "# Виведення результатів\n",
        "print(\"Множина 1:\", set1)\n",
        "print(\"Множина 2:\", set2)\n",
        "print(\"\\nОб'єднання:\", union_result)\n",
        "print(\"Різниця:\", difference_result)\n",
        "print(\"Пересічення:\", intersection_result)\n",
        "print(\"Симетрична різниця:\", symmetric_difference_result)\n"
      ],
      "metadata": {
        "id": "h0T-VuDnf3Ri",
        "colab": {
          "base_uri": "https://localhost:8080/"
        },
        "outputId": "cf613d8f-f987-44cb-aac4-f1c3b18b8cd3"
      },
      "execution_count": null,
      "outputs": [
        {
          "output_type": "stream",
          "name": "stdout",
          "text": [
            "Множина 1: {1, 2, 3, 4, 5}\n",
            "Множина 2: {2, 4, 6, 7, 8, 9}\n",
            "\n",
            "Об'єднання: {1, 2, 3, 4, 5, 6, 7, 8, 9}\n",
            "Різниця: {1, 3, 5}\n",
            "Пересічення: {2, 4}\n",
            "Симетрична різниця: {1, 3, 5, 6, 7, 8, 9}\n"
          ]
        }
      ]
    },
    {
      "cell_type": "markdown",
      "source": [
        "# VII. Словники (Dictionary)."
      ],
      "metadata": {
        "id": "kWc8gkzTx7Ea"
      }
    },
    {
      "cell_type": "markdown",
      "source": [
        "20. Створіть пустий словник. До нього додайте чотири пари елементів такі, щоб їхні ключі були різних типів. Чи може список бути ключем? Чому?"
      ],
      "metadata": {
        "id": "i5FLwj-B2ybQ"
      }
    },
    {
      "cell_type": "code",
      "source": [
        "# Створення пустого словника\n",
        "my_dict = {}\n",
        "# Додавання чотирьох пар елементів\n",
        "my_dict[1] = 'integer'\n",
        "my_dict['вікно'] = 'string'\n",
        "my_dict[3.14] = 'float'\n",
        "my_dict[(1, 2)] = 'tuple'\n",
        "# Виведення результату\n",
        "print(\"Словник:\", my_dict)\n"
      ],
      "metadata": {
        "id": "hxgv3BzrgLAV",
        "colab": {
          "base_uri": "https://localhost:8080/"
        },
        "outputId": "ac3a52d0-45af-4d8e-dc6e-12ac2e30607e"
      },
      "execution_count": null,
      "outputs": [
        {
          "output_type": "stream",
          "name": "stdout",
          "text": [
            "Словник: {1: 'integer', 'вікно': 'string', 3.14: 'float', (1, 2): 'tuple'}\n"
          ]
        }
      ]
    },
    {
      "cell_type": "markdown",
      "source": [
        "Не може список бути ключем. Ключі у словнику повинні бути незмінними об'єктами. Допустимими ключами можуть бути, наприклад, числа, рядки, кортежі."
      ],
      "metadata": {
        "id": "WszKmiAlxuXt"
      }
    },
    {
      "cell_type": "markdown",
      "source": [
        "*місце для текстової відповіді"
      ],
      "metadata": {
        "id": "zwa7UVN-gR3m"
      }
    },
    {
      "cell_type": "markdown",
      "source": [
        "21. Створіть словник, де значенням в одній з пар теж буде словник, який теж має вкладений словник. Виведіть на екран значення, що міститься в словнику, що знаходиться на найнижчому рівні ієрархії вкладеності (найбільш внутрішній)."
      ],
      "metadata": {
        "id": "WM_pMlJsgoNf"
      }
    },
    {
      "cell_type": "code",
      "source": [
        "# Створення словника з реальними словами та вкладеними словниками\n",
        "dictionary_example = {\n",
        "    'word1': 'definition1',\n",
        "    'word2': {\n",
        "        'synonym': 'similar_word',\n",
        "        'antonym': 'opposite_word',\n",
        "        'usage': {\n",
        "            'sentence1': 'Example sentence 1',\n",
        "            'sentence2': 'Example sentence 2'\n",
        "        }\n",
        "    },\n",
        "    'word3': 'definition3'\n",
        "}\n",
        "# Отримання значення з найбільш внутрішнього словника\n",
        "inner_value = dictionary_example['word2']['usage']['sentence1']\n",
        "# Виведення результату\n",
        "print(\"Значення в найбільш внутрішньому словнику:\", inner_value)\n",
        "\n"
      ],
      "metadata": {
        "id": "60dlP7IHhAy4",
        "colab": {
          "base_uri": "https://localhost:8080/"
        },
        "outputId": "0f4e385a-9e1d-47d0-83ec-eb8c7937eb16"
      },
      "execution_count": null,
      "outputs": [
        {
          "output_type": "stream",
          "name": "stdout",
          "text": [
            "Значення в найбільш внутрішньому словнику: Example sentence 1\n"
          ]
        }
      ]
    },
    {
      "cell_type": "markdown",
      "source": [
        "# Вітаю! Ви велика(ий) молодець, що впоралась(вся). Похваліть себе та побалуйте чимось приємним. Я Вами пишаюся."
      ],
      "metadata": {
        "id": "xOZP0hkx6cCr"
      }
    }
  ]
}